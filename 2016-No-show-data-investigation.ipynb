{
 "cells": [
  {
   "cell_type": "markdown",
   "metadata": {},
   "source": [
    "<img src=\"img/header.png\" />"
   ]
  },
  {
   "cell_type": "markdown",
   "metadata": {},
   "source": [
    "<img src=\"img/title.png\" />"
   ]
  },
  {
   "cell_type": "markdown",
   "metadata": {},
   "source": [
    "\n",
    "<h1 style=\"color:#003152\">Project: Investigate No-show Dataset - 2016</h1>\n",
    "\n",
    "<h2 style=\"color:#02B3E4\">Table of Contents</h2>\n",
    "<ul>\n",
    "<li><a href=\"#intro\">Introduction</a></li>\n",
    "<li><a href=\"#wrangling\">Data Wrangling</a></li>\n",
    "<li><a href=\"#eda\">Exploratory Data Analysis</a></li>\n",
    "<li><a href=\"#conclusions\">Conclusions</a></li>\n",
    "</ul>"
   ]
  },
  {
   "cell_type": "markdown",
   "metadata": {},
   "source": [
    "<a id='intro'></a>\n",
    "<h2 style=\"color:#02B3E4\">Introduction</h2>\n",
    "\n",
    "In this section of the report,  a brief introduction to the dataset is provided, as well as the describtion of the analysis questions to be explored over the course of the report. \n",
    "\n",
    "\n",
    "><ul>\n",
    "    <li><b>No-Show Appointments Dataset Describtion:</b><br>\n",
    "        <p>This dataset collects information from more than 100k medical appointments in Brazil in 2016,\n",
    "            and is focused on the question of whether patients have shown up for their appointment or not.The below table               contains a brief description about the dataset as the following: \n",
    "            </p><br>\n",
    "        <table style=\"width:fit-content\">\n",
    "        <tr>\n",
    "            <th style=\"text-align: left\">Field</th>\n",
    "            <th style=\"text-align: left\">Describtion</th>\n",
    "        </tr>\n",
    "        <tr>\n",
    "            <td style=\"text-align: left\">PatientId</td>\t\n",
    "            <td style=\"text-align: left\">The identifier of the patient</td>\n",
    "        </tr>\n",
    "        <tr>\n",
    "            <td style=\"text-align: left\">AppointmentID</td>\t\n",
    "            <td style=\"text-align: left\">The identifier of the appointment</td>\n",
    "        </tr>\n",
    "        <tr>\n",
    "            <td style=\"text-align: left\">Gender</td>\t\n",
    "            <td style=\"text-align: left\">Indicates patient's gender</td>\n",
    "        </tr>\n",
    "        <tr>\n",
    "            <td style=\"text-align: left\">ScheduledDay</td>\t\n",
    "            <td style=\"text-align: left\">Reflects when appointment was shceduled</td>\n",
    "        </tr>\n",
    "                <tr>\n",
    "            <td style=\"text-align: left\">AppointmentDay</td>\t\n",
    "            <td style=\"text-align: left\">Reflects when the real appointment happened, where patients have seen the \n",
    "                doctor or not</td>\n",
    "        </tr>\n",
    "        <tr>\n",
    "            <td style=\"text-align: left\">Age</td>\t\n",
    "            <td style=\"text-align: left\">Indicates patient's age</td>\n",
    "        </tr>\n",
    "        <tr>\n",
    "            <td style=\"text-align: left\">Neighbourhood</td>\t\n",
    "            <td style=\"text-align: left\">Indicates hospital location where appoinments were occuring</td>\n",
    "        </tr>\n",
    "        <tr>\n",
    "            <td style=\"text-align: left\">Scholarship</td>\t\n",
    "            <td style=\"text-align: left\">Indicates whether patient is currently enrolled in a scholarship or not</td>\n",
    "        </tr>\n",
    "        <tr>\n",
    "            <td style=\"text-align: left\">Hipertension</td>\t\n",
    "            <td style=\"text-align: left\">Indecates whether patient has a hipertension (high blood pressure) or not</td>\n",
    "        </tr>\n",
    "        <tr>\n",
    "            <td style=\"text-align: left\">Diabetes</td>\t\n",
    "            <td style=\"text-align: left\">Indecates whether patient has a diabetes or not</td>\n",
    "        </tr>\n",
    "         <tr>\n",
    "            <td style=\"text-align: left\">Alcoholism</td>\t\n",
    "            <td style=\"text-align: left\">Indicates whether patient is an alcoholic or not</td>\n",
    "        </tr>\n",
    "        <tr>\n",
    "            <td style=\"text-align: left\">Handcap</td>\t\n",
    "            <td style=\"text-align: left\">Indecates whether patient is handicaped or not</td>\n",
    "        </tr>\n",
    "         <tr>\n",
    "            <td style=\"text-align: left\">SMS_received</td>\t\n",
    "            <td style=\"text-align: left\">Indicates whether patient recived an SMS or not</td>\n",
    "        </tr>\n",
    "        <tr>\n",
    "            <td style=\"text-align: left\">No-show</td>\t\n",
    "            <td style=\"text-align: left\">Indecates whether patient has seen the doctor or not</td>\n",
    "        </tr>\n",
    "        </table>\n",
    "   </li> \n",
    "   <br>\n",
    "   <li><b>Analysis Questions:</b><br>\n",
    "       <ol>\n",
    "           <li>When was the highest number of appointments?</li>\n",
    "           <li>What is the total number of show/no-show appointments?</li>\n",
    "           <li>What is the total number of show/no-show appointments per month? When was the highest no-show rate?</li>\n",
    "           <li>What is the total number of show/no-show appointments per gender? Who has the highest no-show rate?</li>\n",
    "           <li>What is the total number of show/no-show appointments per age group? Which group has \n",
    "               the highest no-show rate?</li>\n",
    "           <li>What is the total number of show/no-show appointments for those who have a chornic diseases?</li>\n",
    "           <li>Where was the highest number of appointments?</li>\n",
    "           <li>Were patients who have scolarship commited to their appointments more?</li>\n",
    "           <li>Does Alcoholism affects patients commitment to their appointments?</li>\n",
    "           <li>Does receiving an SMS as a reminder improves patients commitment to their appointments?</li>\n",
    "       </ol>\n",
    "   </li>\n",
    "   <br>\n",
    "    <li><b>Dependent and Independent Variables to be Explored:</b><br>\n",
    "         <ol>\n",
    "           <li>Dependent Variable: Total Number of No-Shows</li>\n",
    "           <li>Independent Variables: Date (Month), Patient Characteristics (Gender-Age), Patient Medical History (Chronic                        Diseases-Alcoholisim-Disabilities), and Scolarship</li>\n",
    "       </ol>\n",
    "    </li>\n",
    "</ul>"
   ]
  },
  {
   "cell_type": "code",
   "execution_count": 1,
   "metadata": {},
   "outputs": [],
   "source": [
    "# packages importing statements\n",
    "\n",
    "import pandas as pd\n",
    "import numpy as np\n",
    "import matplotlib.pyplot as plt\n",
    "import matplotlib.colors as clr\n",
    "from matplotlib import cm\n",
    "import seaborn as sns\n",
    "from scipy.stats import norm\n",
    "import squarify    # pip install squarify (algorithm for treemap)\n",
    "%matplotlib inline"
   ]
  },
  {
   "cell_type": "markdown",
   "metadata": {},
   "source": [
    "<a id='wrangling'></a>\n",
    "<h2 style=\"color:#02B3E4\">Data Wrangling</h2>\n",
    "\n",
    "> In this section of the report, the data will be checked for cleanliness, and then trimmed and cleaned for analysis.\n"
   ]
  },
  {
   "cell_type": "markdown",
   "metadata": {},
   "source": [
    "### Loading Data and Assessing Quality"
   ]
  },
  {
   "cell_type": "code",
   "execution_count": 2,
   "metadata": {},
   "outputs": [],
   "source": [
    "# Loading dataframe\n",
    "df = pd.read_csv('noshowappointments-may-2016.csv')"
   ]
  },
  {
   "cell_type": "code",
   "execution_count": 3,
   "metadata": {},
   "outputs": [
    {
     "data": {
      "text/plain": [
       "(110527, 14)"
      ]
     },
     "execution_count": 3,
     "metadata": {},
     "output_type": "execute_result"
    }
   ],
   "source": [
    "#Check dataset dimentions \n",
    "df.shape"
   ]
  },
  {
   "cell_type": "code",
   "execution_count": 4,
   "metadata": {},
   "outputs": [
    {
     "data": {
      "text/html": [
       "<div>\n",
       "<style scoped>\n",
       "    .dataframe tbody tr th:only-of-type {\n",
       "        vertical-align: middle;\n",
       "    }\n",
       "\n",
       "    .dataframe tbody tr th {\n",
       "        vertical-align: top;\n",
       "    }\n",
       "\n",
       "    .dataframe thead th {\n",
       "        text-align: right;\n",
       "    }\n",
       "</style>\n",
       "<table border=\"1\" class=\"dataframe\">\n",
       "  <thead>\n",
       "    <tr style=\"text-align: right;\">\n",
       "      <th></th>\n",
       "      <th>PatientId</th>\n",
       "      <th>AppointmentID</th>\n",
       "      <th>Gender</th>\n",
       "      <th>ScheduledDay</th>\n",
       "      <th>AppointmentDay</th>\n",
       "      <th>Age</th>\n",
       "      <th>Neighbourhood</th>\n",
       "      <th>Scholarship</th>\n",
       "      <th>Hipertension</th>\n",
       "      <th>Diabetes</th>\n",
       "      <th>Alcoholism</th>\n",
       "      <th>Handcap</th>\n",
       "      <th>SMS_received</th>\n",
       "      <th>No-show</th>\n",
       "    </tr>\n",
       "  </thead>\n",
       "  <tbody>\n",
       "    <tr>\n",
       "      <th>0</th>\n",
       "      <td>2.987250e+13</td>\n",
       "      <td>5642903</td>\n",
       "      <td>F</td>\n",
       "      <td>2016-04-29T18:38:08Z</td>\n",
       "      <td>2016-04-29T00:00:00Z</td>\n",
       "      <td>62</td>\n",
       "      <td>JARDIM DA PENHA</td>\n",
       "      <td>0</td>\n",
       "      <td>1</td>\n",
       "      <td>0</td>\n",
       "      <td>0</td>\n",
       "      <td>0</td>\n",
       "      <td>0</td>\n",
       "      <td>No</td>\n",
       "    </tr>\n",
       "    <tr>\n",
       "      <th>1</th>\n",
       "      <td>5.589978e+14</td>\n",
       "      <td>5642503</td>\n",
       "      <td>M</td>\n",
       "      <td>2016-04-29T16:08:27Z</td>\n",
       "      <td>2016-04-29T00:00:00Z</td>\n",
       "      <td>56</td>\n",
       "      <td>JARDIM DA PENHA</td>\n",
       "      <td>0</td>\n",
       "      <td>0</td>\n",
       "      <td>0</td>\n",
       "      <td>0</td>\n",
       "      <td>0</td>\n",
       "      <td>0</td>\n",
       "      <td>No</td>\n",
       "    </tr>\n",
       "    <tr>\n",
       "      <th>2</th>\n",
       "      <td>4.262962e+12</td>\n",
       "      <td>5642549</td>\n",
       "      <td>F</td>\n",
       "      <td>2016-04-29T16:19:04Z</td>\n",
       "      <td>2016-04-29T00:00:00Z</td>\n",
       "      <td>62</td>\n",
       "      <td>MATA DA PRAIA</td>\n",
       "      <td>0</td>\n",
       "      <td>0</td>\n",
       "      <td>0</td>\n",
       "      <td>0</td>\n",
       "      <td>0</td>\n",
       "      <td>0</td>\n",
       "      <td>No</td>\n",
       "    </tr>\n",
       "    <tr>\n",
       "      <th>3</th>\n",
       "      <td>8.679512e+11</td>\n",
       "      <td>5642828</td>\n",
       "      <td>F</td>\n",
       "      <td>2016-04-29T17:29:31Z</td>\n",
       "      <td>2016-04-29T00:00:00Z</td>\n",
       "      <td>8</td>\n",
       "      <td>PONTAL DE CAMBURI</td>\n",
       "      <td>0</td>\n",
       "      <td>0</td>\n",
       "      <td>0</td>\n",
       "      <td>0</td>\n",
       "      <td>0</td>\n",
       "      <td>0</td>\n",
       "      <td>No</td>\n",
       "    </tr>\n",
       "    <tr>\n",
       "      <th>4</th>\n",
       "      <td>8.841186e+12</td>\n",
       "      <td>5642494</td>\n",
       "      <td>F</td>\n",
       "      <td>2016-04-29T16:07:23Z</td>\n",
       "      <td>2016-04-29T00:00:00Z</td>\n",
       "      <td>56</td>\n",
       "      <td>JARDIM DA PENHA</td>\n",
       "      <td>0</td>\n",
       "      <td>1</td>\n",
       "      <td>1</td>\n",
       "      <td>0</td>\n",
       "      <td>0</td>\n",
       "      <td>0</td>\n",
       "      <td>No</td>\n",
       "    </tr>\n",
       "  </tbody>\n",
       "</table>\n",
       "</div>"
      ],
      "text/plain": [
       "      PatientId  AppointmentID Gender          ScheduledDay  \\\n",
       "0  2.987250e+13        5642903      F  2016-04-29T18:38:08Z   \n",
       "1  5.589978e+14        5642503      M  2016-04-29T16:08:27Z   \n",
       "2  4.262962e+12        5642549      F  2016-04-29T16:19:04Z   \n",
       "3  8.679512e+11        5642828      F  2016-04-29T17:29:31Z   \n",
       "4  8.841186e+12        5642494      F  2016-04-29T16:07:23Z   \n",
       "\n",
       "         AppointmentDay  Age      Neighbourhood  Scholarship  Hipertension  \\\n",
       "0  2016-04-29T00:00:00Z   62    JARDIM DA PENHA            0             1   \n",
       "1  2016-04-29T00:00:00Z   56    JARDIM DA PENHA            0             0   \n",
       "2  2016-04-29T00:00:00Z   62      MATA DA PRAIA            0             0   \n",
       "3  2016-04-29T00:00:00Z    8  PONTAL DE CAMBURI            0             0   \n",
       "4  2016-04-29T00:00:00Z   56    JARDIM DA PENHA            0             1   \n",
       "\n",
       "   Diabetes  Alcoholism  Handcap  SMS_received No-show  \n",
       "0         0           0        0             0      No  \n",
       "1         0           0        0             0      No  \n",
       "2         0           0        0             0      No  \n",
       "3         0           0        0             0      No  \n",
       "4         1           0        0             0      No  "
      ]
     },
     "execution_count": 4,
     "metadata": {},
     "output_type": "execute_result"
    }
   ],
   "source": [
    "#return dataset fields\n",
    "df.head()"
   ]
  },
  {
   "cell_type": "code",
   "execution_count": 5,
   "metadata": {},
   "outputs": [
    {
     "name": "stdout",
     "output_type": "stream",
     "text": [
      "<class 'pandas.core.frame.DataFrame'>\n",
      "RangeIndex: 110527 entries, 0 to 110526\n",
      "Data columns (total 14 columns):\n",
      " #   Column          Non-Null Count   Dtype  \n",
      "---  ------          --------------   -----  \n",
      " 0   PatientId       110527 non-null  float64\n",
      " 1   AppointmentID   110527 non-null  int64  \n",
      " 2   Gender          110527 non-null  object \n",
      " 3   ScheduledDay    110527 non-null  object \n",
      " 4   AppointmentDay  110527 non-null  object \n",
      " 5   Age             110527 non-null  int64  \n",
      " 6   Neighbourhood   110527 non-null  object \n",
      " 7   Scholarship     110527 non-null  int64  \n",
      " 8   Hipertension    110527 non-null  int64  \n",
      " 9   Diabetes        110527 non-null  int64  \n",
      " 10  Alcoholism      110527 non-null  int64  \n",
      " 11  Handcap         110527 non-null  int64  \n",
      " 12  SMS_received    110527 non-null  int64  \n",
      " 13  No-show         110527 non-null  object \n",
      "dtypes: float64(1), int64(8), object(5)\n",
      "memory usage: 11.8+ MB\n"
     ]
    }
   ],
   "source": [
    "#check null values & datatypes\n",
    "df.info()  \n",
    "#we don't have null values, but we have to modify datatypes to be appropriately aligned with the analysis"
   ]
  },
  {
   "cell_type": "markdown",
   "metadata": {},
   "source": [
    "### Data Cleaning "
   ]
  },
  {
   "cell_type": "code",
   "execution_count": 6,
   "metadata": {},
   "outputs": [],
   "source": [
    "#update datatypes\n",
    "\n",
    "df['PatientId'] = df['PatientId'].astype('int64')\n",
    "df['Gender'] = df['Gender'].astype('object')\n",
    "df['Scholarship'] = df['Scholarship'].astype('object')\n",
    "df['Hipertension'] = df['Hipertension'].astype('object')\n",
    "df['Diabetes'] = df['Diabetes'].astype('object')\n",
    "df['Alcoholism'] = df['Alcoholism'].astype('object')\n",
    "df['Handcap'] = df['Handcap'].astype('object')\n",
    "df['SMS_received'] = df['SMS_received'].astype('object')\n",
    "df['No-show'] = df['No-show'].astype('object')"
   ]
  },
  {
   "cell_type": "code",
   "execution_count": 7,
   "metadata": {},
   "outputs": [],
   "source": [
    "#update datatypes for dates\n",
    "\n",
    "df['ScheduledDay'] = pd.to_datetime(df['ScheduledDay']).dt.date.astype('datetime64[ns]')\n",
    "df['AppointmentDay'] = pd.to_datetime(df['AppointmentDay']).dt.date.astype('datetime64[ns]')"
   ]
  },
  {
   "cell_type": "code",
   "execution_count": 8,
   "metadata": {},
   "outputs": [
    {
     "name": "stdout",
     "output_type": "stream",
     "text": [
      "<class 'pandas.core.frame.DataFrame'>\n",
      "RangeIndex: 110527 entries, 0 to 110526\n",
      "Data columns (total 14 columns):\n",
      " #   Column          Non-Null Count   Dtype         \n",
      "---  ------          --------------   -----         \n",
      " 0   PatientId       110527 non-null  int64         \n",
      " 1   AppointmentID   110527 non-null  int64         \n",
      " 2   Gender          110527 non-null  object        \n",
      " 3   ScheduledDay    110527 non-null  datetime64[ns]\n",
      " 4   AppointmentDay  110527 non-null  datetime64[ns]\n",
      " 5   Age             110527 non-null  int64         \n",
      " 6   Neighbourhood   110527 non-null  object        \n",
      " 7   Scholarship     110527 non-null  object        \n",
      " 8   Hipertension    110527 non-null  object        \n",
      " 9   Diabetes        110527 non-null  object        \n",
      " 10  Alcoholism      110527 non-null  object        \n",
      " 11  Handcap         110527 non-null  object        \n",
      " 12  SMS_received    110527 non-null  object        \n",
      " 13  No-show         110527 non-null  object        \n",
      "dtypes: datetime64[ns](2), int64(3), object(9)\n",
      "memory usage: 11.8+ MB\n"
     ]
    },
    {
     "data": {
      "text/html": [
       "<div>\n",
       "<style scoped>\n",
       "    .dataframe tbody tr th:only-of-type {\n",
       "        vertical-align: middle;\n",
       "    }\n",
       "\n",
       "    .dataframe tbody tr th {\n",
       "        vertical-align: top;\n",
       "    }\n",
       "\n",
       "    .dataframe thead th {\n",
       "        text-align: right;\n",
       "    }\n",
       "</style>\n",
       "<table border=\"1\" class=\"dataframe\">\n",
       "  <thead>\n",
       "    <tr style=\"text-align: right;\">\n",
       "      <th></th>\n",
       "      <th>PatientId</th>\n",
       "      <th>AppointmentID</th>\n",
       "      <th>Gender</th>\n",
       "      <th>ScheduledDay</th>\n",
       "      <th>AppointmentDay</th>\n",
       "      <th>Age</th>\n",
       "      <th>Neighbourhood</th>\n",
       "      <th>Scholarship</th>\n",
       "      <th>Hipertension</th>\n",
       "      <th>Diabetes</th>\n",
       "      <th>Alcoholism</th>\n",
       "      <th>Handcap</th>\n",
       "      <th>SMS_received</th>\n",
       "      <th>No-show</th>\n",
       "    </tr>\n",
       "  </thead>\n",
       "  <tbody>\n",
       "    <tr>\n",
       "      <th>0</th>\n",
       "      <td>29872499824296</td>\n",
       "      <td>5642903</td>\n",
       "      <td>F</td>\n",
       "      <td>2016-04-29</td>\n",
       "      <td>2016-04-29</td>\n",
       "      <td>62</td>\n",
       "      <td>JARDIM DA PENHA</td>\n",
       "      <td>0</td>\n",
       "      <td>1</td>\n",
       "      <td>0</td>\n",
       "      <td>0</td>\n",
       "      <td>0</td>\n",
       "      <td>0</td>\n",
       "      <td>No</td>\n",
       "    </tr>\n",
       "    <tr>\n",
       "      <th>1</th>\n",
       "      <td>558997776694438</td>\n",
       "      <td>5642503</td>\n",
       "      <td>M</td>\n",
       "      <td>2016-04-29</td>\n",
       "      <td>2016-04-29</td>\n",
       "      <td>56</td>\n",
       "      <td>JARDIM DA PENHA</td>\n",
       "      <td>0</td>\n",
       "      <td>0</td>\n",
       "      <td>0</td>\n",
       "      <td>0</td>\n",
       "      <td>0</td>\n",
       "      <td>0</td>\n",
       "      <td>No</td>\n",
       "    </tr>\n",
       "    <tr>\n",
       "      <th>2</th>\n",
       "      <td>4262962299951</td>\n",
       "      <td>5642549</td>\n",
       "      <td>F</td>\n",
       "      <td>2016-04-29</td>\n",
       "      <td>2016-04-29</td>\n",
       "      <td>62</td>\n",
       "      <td>MATA DA PRAIA</td>\n",
       "      <td>0</td>\n",
       "      <td>0</td>\n",
       "      <td>0</td>\n",
       "      <td>0</td>\n",
       "      <td>0</td>\n",
       "      <td>0</td>\n",
       "      <td>No</td>\n",
       "    </tr>\n",
       "    <tr>\n",
       "      <th>3</th>\n",
       "      <td>867951213174</td>\n",
       "      <td>5642828</td>\n",
       "      <td>F</td>\n",
       "      <td>2016-04-29</td>\n",
       "      <td>2016-04-29</td>\n",
       "      <td>8</td>\n",
       "      <td>PONTAL DE CAMBURI</td>\n",
       "      <td>0</td>\n",
       "      <td>0</td>\n",
       "      <td>0</td>\n",
       "      <td>0</td>\n",
       "      <td>0</td>\n",
       "      <td>0</td>\n",
       "      <td>No</td>\n",
       "    </tr>\n",
       "    <tr>\n",
       "      <th>4</th>\n",
       "      <td>8841186448183</td>\n",
       "      <td>5642494</td>\n",
       "      <td>F</td>\n",
       "      <td>2016-04-29</td>\n",
       "      <td>2016-04-29</td>\n",
       "      <td>56</td>\n",
       "      <td>JARDIM DA PENHA</td>\n",
       "      <td>0</td>\n",
       "      <td>1</td>\n",
       "      <td>1</td>\n",
       "      <td>0</td>\n",
       "      <td>0</td>\n",
       "      <td>0</td>\n",
       "      <td>No</td>\n",
       "    </tr>\n",
       "  </tbody>\n",
       "</table>\n",
       "</div>"
      ],
      "text/plain": [
       "         PatientId  AppointmentID Gender ScheduledDay AppointmentDay  Age  \\\n",
       "0   29872499824296        5642903      F   2016-04-29     2016-04-29   62   \n",
       "1  558997776694438        5642503      M   2016-04-29     2016-04-29   56   \n",
       "2    4262962299951        5642549      F   2016-04-29     2016-04-29   62   \n",
       "3     867951213174        5642828      F   2016-04-29     2016-04-29    8   \n",
       "4    8841186448183        5642494      F   2016-04-29     2016-04-29   56   \n",
       "\n",
       "       Neighbourhood Scholarship Hipertension Diabetes Alcoholism Handcap  \\\n",
       "0    JARDIM DA PENHA           0            1        0          0       0   \n",
       "1    JARDIM DA PENHA           0            0        0          0       0   \n",
       "2      MATA DA PRAIA           0            0        0          0       0   \n",
       "3  PONTAL DE CAMBURI           0            0        0          0       0   \n",
       "4    JARDIM DA PENHA           0            1        1          0       0   \n",
       "\n",
       "  SMS_received No-show  \n",
       "0            0      No  \n",
       "1            0      No  \n",
       "2            0      No  \n",
       "3            0      No  \n",
       "4            0      No  "
      ]
     },
     "execution_count": 8,
     "metadata": {},
     "output_type": "execute_result"
    }
   ],
   "source": [
    "#Check dataset after updates\n",
    "df.info()\n",
    "df.head()"
   ]
  },
  {
   "cell_type": "code",
   "execution_count": 9,
   "metadata": {},
   "outputs": [
    {
     "data": {
      "text/plain": [
       "0"
      ]
     },
     "execution_count": 9,
     "metadata": {},
     "output_type": "execute_result"
    }
   ],
   "source": [
    "#Check if we have duplicated rows or not\n",
    "df.duplicated().sum()"
   ]
  },
  {
   "cell_type": "code",
   "execution_count": 10,
   "metadata": {
    "scrolled": true
   },
   "outputs": [
    {
     "data": {
      "text/plain": [
       "PatientId          62299\n",
       "AppointmentID     110527\n",
       "Gender                 2\n",
       "ScheduledDay         111\n",
       "AppointmentDay        27\n",
       "Age                  104\n",
       "Neighbourhood         81\n",
       "Scholarship            2\n",
       "Hipertension           2\n",
       "Diabetes               2\n",
       "Alcoholism             2\n",
       "Handcap                5\n",
       "SMS_received           2\n",
       "No-show                2\n",
       "dtype: int64"
      ]
     },
     "execution_count": 10,
     "metadata": {},
     "output_type": "execute_result"
    }
   ],
   "source": [
    "#Check unique values in each field\n",
    "df.nunique()"
   ]
  },
  {
   "cell_type": "code",
   "execution_count": 11,
   "metadata": {},
   "outputs": [],
   "source": [
    "#replace data values to be more readable\n",
    "\n",
    "df[\"Gender\"].replace({\"F\": \"Female\", \"M\": \"Male\"}, inplace=True)\n",
    "df[\"Scholarship\"].replace({0: \"No Scholarship\", 1: \"Has Scholarship\"}, inplace=True)\n",
    "df[\"Diabetes\"].replace({0: \"No Diabetes\", 1: \"Has Diabetes\"}, inplace=True)\n",
    "df[\"Hipertension\"].replace({0: \"No Hipertension\", 1: \"Has Hipertension\"}, inplace=True)\n",
    "df[\"No-show\"].replace({\"Yes\": \"No show\", \"No\": \"Show\"}, inplace=True)\n",
    "df[\"Alcoholism\"].replace({0: \"Not Alcoholic\", 1: \"Alcoholic\"}, inplace=True)\n",
    "df[\"Handcap\"].replace({0: \"Not Handicaped\", 1: \"Handicaped\"}, inplace=True)\n",
    "df[\"SMS_received\"].replace({0: \"Not Received\", 1: \"Received\"}, inplace=True)"
   ]
  },
  {
   "cell_type": "code",
   "execution_count": 12,
   "metadata": {},
   "outputs": [
    {
     "data": {
      "text/html": [
       "<div>\n",
       "<style scoped>\n",
       "    .dataframe tbody tr th:only-of-type {\n",
       "        vertical-align: middle;\n",
       "    }\n",
       "\n",
       "    .dataframe tbody tr th {\n",
       "        vertical-align: top;\n",
       "    }\n",
       "\n",
       "    .dataframe thead th {\n",
       "        text-align: right;\n",
       "    }\n",
       "</style>\n",
       "<table border=\"1\" class=\"dataframe\">\n",
       "  <thead>\n",
       "    <tr style=\"text-align: right;\">\n",
       "      <th></th>\n",
       "      <th>PatientId</th>\n",
       "      <th>AppointmentID</th>\n",
       "      <th>Gender</th>\n",
       "      <th>ScheduledDay</th>\n",
       "      <th>AppointmentDay</th>\n",
       "      <th>Age</th>\n",
       "      <th>Neighbourhood</th>\n",
       "      <th>Scholarship</th>\n",
       "      <th>Hipertension</th>\n",
       "      <th>Diabetes</th>\n",
       "      <th>Alcoholism</th>\n",
       "      <th>Handcap</th>\n",
       "      <th>SMS_received</th>\n",
       "      <th>No-show</th>\n",
       "    </tr>\n",
       "  </thead>\n",
       "  <tbody>\n",
       "    <tr>\n",
       "      <th>0</th>\n",
       "      <td>29872499824296</td>\n",
       "      <td>5642903</td>\n",
       "      <td>Female</td>\n",
       "      <td>2016-04-29</td>\n",
       "      <td>2016-04-29</td>\n",
       "      <td>62</td>\n",
       "      <td>JARDIM DA PENHA</td>\n",
       "      <td>No Scholarship</td>\n",
       "      <td>Has Hipertension</td>\n",
       "      <td>No Diabetes</td>\n",
       "      <td>Not Alcoholic</td>\n",
       "      <td>Not Handicaped</td>\n",
       "      <td>Not Received</td>\n",
       "      <td>Show</td>\n",
       "    </tr>\n",
       "    <tr>\n",
       "      <th>1</th>\n",
       "      <td>558997776694438</td>\n",
       "      <td>5642503</td>\n",
       "      <td>Male</td>\n",
       "      <td>2016-04-29</td>\n",
       "      <td>2016-04-29</td>\n",
       "      <td>56</td>\n",
       "      <td>JARDIM DA PENHA</td>\n",
       "      <td>No Scholarship</td>\n",
       "      <td>No Hipertension</td>\n",
       "      <td>No Diabetes</td>\n",
       "      <td>Not Alcoholic</td>\n",
       "      <td>Not Handicaped</td>\n",
       "      <td>Not Received</td>\n",
       "      <td>Show</td>\n",
       "    </tr>\n",
       "    <tr>\n",
       "      <th>2</th>\n",
       "      <td>4262962299951</td>\n",
       "      <td>5642549</td>\n",
       "      <td>Female</td>\n",
       "      <td>2016-04-29</td>\n",
       "      <td>2016-04-29</td>\n",
       "      <td>62</td>\n",
       "      <td>MATA DA PRAIA</td>\n",
       "      <td>No Scholarship</td>\n",
       "      <td>No Hipertension</td>\n",
       "      <td>No Diabetes</td>\n",
       "      <td>Not Alcoholic</td>\n",
       "      <td>Not Handicaped</td>\n",
       "      <td>Not Received</td>\n",
       "      <td>Show</td>\n",
       "    </tr>\n",
       "    <tr>\n",
       "      <th>3</th>\n",
       "      <td>867951213174</td>\n",
       "      <td>5642828</td>\n",
       "      <td>Female</td>\n",
       "      <td>2016-04-29</td>\n",
       "      <td>2016-04-29</td>\n",
       "      <td>8</td>\n",
       "      <td>PONTAL DE CAMBURI</td>\n",
       "      <td>No Scholarship</td>\n",
       "      <td>No Hipertension</td>\n",
       "      <td>No Diabetes</td>\n",
       "      <td>Not Alcoholic</td>\n",
       "      <td>Not Handicaped</td>\n",
       "      <td>Not Received</td>\n",
       "      <td>Show</td>\n",
       "    </tr>\n",
       "    <tr>\n",
       "      <th>4</th>\n",
       "      <td>8841186448183</td>\n",
       "      <td>5642494</td>\n",
       "      <td>Female</td>\n",
       "      <td>2016-04-29</td>\n",
       "      <td>2016-04-29</td>\n",
       "      <td>56</td>\n",
       "      <td>JARDIM DA PENHA</td>\n",
       "      <td>No Scholarship</td>\n",
       "      <td>Has Hipertension</td>\n",
       "      <td>Has Diabetes</td>\n",
       "      <td>Not Alcoholic</td>\n",
       "      <td>Not Handicaped</td>\n",
       "      <td>Not Received</td>\n",
       "      <td>Show</td>\n",
       "    </tr>\n",
       "  </tbody>\n",
       "</table>\n",
       "</div>"
      ],
      "text/plain": [
       "         PatientId  AppointmentID  Gender ScheduledDay AppointmentDay  Age  \\\n",
       "0   29872499824296        5642903  Female   2016-04-29     2016-04-29   62   \n",
       "1  558997776694438        5642503    Male   2016-04-29     2016-04-29   56   \n",
       "2    4262962299951        5642549  Female   2016-04-29     2016-04-29   62   \n",
       "3     867951213174        5642828  Female   2016-04-29     2016-04-29    8   \n",
       "4    8841186448183        5642494  Female   2016-04-29     2016-04-29   56   \n",
       "\n",
       "       Neighbourhood     Scholarship      Hipertension      Diabetes  \\\n",
       "0    JARDIM DA PENHA  No Scholarship  Has Hipertension   No Diabetes   \n",
       "1    JARDIM DA PENHA  No Scholarship   No Hipertension   No Diabetes   \n",
       "2      MATA DA PRAIA  No Scholarship   No Hipertension   No Diabetes   \n",
       "3  PONTAL DE CAMBURI  No Scholarship   No Hipertension   No Diabetes   \n",
       "4    JARDIM DA PENHA  No Scholarship  Has Hipertension  Has Diabetes   \n",
       "\n",
       "      Alcoholism         Handcap  SMS_received No-show  \n",
       "0  Not Alcoholic  Not Handicaped  Not Received    Show  \n",
       "1  Not Alcoholic  Not Handicaped  Not Received    Show  \n",
       "2  Not Alcoholic  Not Handicaped  Not Received    Show  \n",
       "3  Not Alcoholic  Not Handicaped  Not Received    Show  \n",
       "4  Not Alcoholic  Not Handicaped  Not Received    Show  "
      ]
     },
     "execution_count": 12,
     "metadata": {},
     "output_type": "execute_result"
    }
   ],
   "source": [
    "#check dataset after updates\n",
    "df.head()"
   ]
  },
  {
   "cell_type": "code",
   "execution_count": 13,
   "metadata": {},
   "outputs": [],
   "source": [
    "# rename No-show column, following naming convention rules in relational databases\n",
    "df.rename(columns={'No-show':'No_show'}, inplace=True)"
   ]
  },
  {
   "cell_type": "code",
   "execution_count": 14,
   "metadata": {},
   "outputs": [
    {
     "data": {
      "text/plain": [
       "count    110527.000000\n",
       "mean         37.088874\n",
       "std          23.110205\n",
       "min          -1.000000\n",
       "25%          18.000000\n",
       "50%          37.000000\n",
       "75%          55.000000\n",
       "max         115.000000\n",
       "Name: Age, dtype: float64"
      ]
     },
     "execution_count": 14,
     "metadata": {},
     "output_type": "execute_result"
    }
   ],
   "source": [
    "# since we only have 3 numerical values(PatientId, AppointmentID, and Age) I want to focus only on Age \n",
    "# to find the range of patients' ages (youngest to oldest)\n",
    "df['Age'].describe() \n",
    "#I noticed that we have -1 as youngest age which doesn't make sense so it might be entered by mistake, so I'll drop that row"
   ]
  },
  {
   "cell_type": "code",
   "execution_count": 15,
   "metadata": {},
   "outputs": [
    {
     "data": {
      "text/plain": [
       "[99832]"
      ]
     },
     "execution_count": 15,
     "metadata": {},
     "output_type": "execute_result"
    }
   ],
   "source": [
    "# getting the index of that row where age = -1 using:\n",
    "df.index[df['Age'] == -1 ].tolist()"
   ]
  },
  {
   "cell_type": "code",
   "execution_count": 16,
   "metadata": {},
   "outputs": [],
   "source": [
    "#drop the row with -1 age \n",
    "df.drop(index=[99832], inplace=True) "
   ]
  },
  {
   "cell_type": "code",
   "execution_count": 17,
   "metadata": {},
   "outputs": [
    {
     "data": {
      "text/plain": [
       "count    110526.000000\n",
       "mean         37.089219\n",
       "std          23.110026\n",
       "min           0.000000\n",
       "25%          18.000000\n",
       "50%          37.000000\n",
       "75%          55.000000\n",
       "max         115.000000\n",
       "Name: Age, dtype: float64"
      ]
     },
     "execution_count": 17,
     "metadata": {},
     "output_type": "execute_result"
    }
   ],
   "source": [
    "#to make sure it was dropped\n",
    "df['Age'].describe() "
   ]
  },
  {
   "cell_type": "code",
   "execution_count": 18,
   "metadata": {},
   "outputs": [
    {
     "name": "stdout",
     "output_type": "stream",
     "text": [
      "<class 'pandas.core.frame.DataFrame'>\n",
      "Int64Index: 110526 entries, 0 to 110526\n",
      "Data columns (total 14 columns):\n",
      " #   Column          Non-Null Count   Dtype         \n",
      "---  ------          --------------   -----         \n",
      " 0   PatientId       110526 non-null  int64         \n",
      " 1   AppointmentID   110526 non-null  int64         \n",
      " 2   Gender          110526 non-null  object        \n",
      " 3   ScheduledDay    110526 non-null  datetime64[ns]\n",
      " 4   AppointmentDay  110526 non-null  datetime64[ns]\n",
      " 5   Age             110526 non-null  int64         \n",
      " 6   Neighbourhood   110526 non-null  object        \n",
      " 7   Scholarship     110526 non-null  object        \n",
      " 8   Hipertension    110526 non-null  object        \n",
      " 9   Diabetes        110526 non-null  object        \n",
      " 10  Alcoholism      110526 non-null  object        \n",
      " 11  Handcap         110526 non-null  object        \n",
      " 12  SMS_received    110526 non-null  object        \n",
      " 13  No_show         110526 non-null  object        \n",
      "dtypes: datetime64[ns](2), int64(3), object(9)\n",
      "memory usage: 12.6+ MB\n"
     ]
    }
   ],
   "source": [
    "#check the dataframe after dropping that row\n",
    "df.info()"
   ]
  },
  {
   "cell_type": "code",
   "execution_count": 19,
   "metadata": {},
   "outputs": [
    {
     "data": {
      "text/html": [
       "<div>\n",
       "<style scoped>\n",
       "    .dataframe tbody tr th:only-of-type {\n",
       "        vertical-align: middle;\n",
       "    }\n",
       "\n",
       "    .dataframe tbody tr th {\n",
       "        vertical-align: top;\n",
       "    }\n",
       "\n",
       "    .dataframe thead th {\n",
       "        text-align: right;\n",
       "    }\n",
       "</style>\n",
       "<table border=\"1\" class=\"dataframe\">\n",
       "  <thead>\n",
       "    <tr style=\"text-align: right;\">\n",
       "      <th></th>\n",
       "      <th>PatientId</th>\n",
       "      <th>AppointmentID</th>\n",
       "      <th>Gender</th>\n",
       "      <th>ScheduledDay</th>\n",
       "      <th>AppointmentDay</th>\n",
       "      <th>Age</th>\n",
       "      <th>Neighbourhood</th>\n",
       "      <th>Scholarship</th>\n",
       "      <th>Hipertension</th>\n",
       "      <th>Diabetes</th>\n",
       "      <th>Alcoholism</th>\n",
       "      <th>Handcap</th>\n",
       "      <th>SMS_received</th>\n",
       "      <th>No_show</th>\n",
       "      <th>Age_group</th>\n",
       "    </tr>\n",
       "  </thead>\n",
       "  <tbody>\n",
       "    <tr>\n",
       "      <th>0</th>\n",
       "      <td>29872499824296</td>\n",
       "      <td>5642903</td>\n",
       "      <td>Female</td>\n",
       "      <td>2016-04-29</td>\n",
       "      <td>2016-04-29</td>\n",
       "      <td>62</td>\n",
       "      <td>JARDIM DA PENHA</td>\n",
       "      <td>No Scholarship</td>\n",
       "      <td>Has Hipertension</td>\n",
       "      <td>No Diabetes</td>\n",
       "      <td>Not Alcoholic</td>\n",
       "      <td>Not Handicaped</td>\n",
       "      <td>Not Received</td>\n",
       "      <td>Show</td>\n",
       "      <td>Seniors</td>\n",
       "    </tr>\n",
       "    <tr>\n",
       "      <th>1</th>\n",
       "      <td>558997776694438</td>\n",
       "      <td>5642503</td>\n",
       "      <td>Male</td>\n",
       "      <td>2016-04-29</td>\n",
       "      <td>2016-04-29</td>\n",
       "      <td>56</td>\n",
       "      <td>JARDIM DA PENHA</td>\n",
       "      <td>No Scholarship</td>\n",
       "      <td>No Hipertension</td>\n",
       "      <td>No Diabetes</td>\n",
       "      <td>Not Alcoholic</td>\n",
       "      <td>Not Handicaped</td>\n",
       "      <td>Not Received</td>\n",
       "      <td>Show</td>\n",
       "      <td>Adults</td>\n",
       "    </tr>\n",
       "    <tr>\n",
       "      <th>2</th>\n",
       "      <td>4262962299951</td>\n",
       "      <td>5642549</td>\n",
       "      <td>Female</td>\n",
       "      <td>2016-04-29</td>\n",
       "      <td>2016-04-29</td>\n",
       "      <td>62</td>\n",
       "      <td>MATA DA PRAIA</td>\n",
       "      <td>No Scholarship</td>\n",
       "      <td>No Hipertension</td>\n",
       "      <td>No Diabetes</td>\n",
       "      <td>Not Alcoholic</td>\n",
       "      <td>Not Handicaped</td>\n",
       "      <td>Not Received</td>\n",
       "      <td>Show</td>\n",
       "      <td>Seniors</td>\n",
       "    </tr>\n",
       "    <tr>\n",
       "      <th>3</th>\n",
       "      <td>867951213174</td>\n",
       "      <td>5642828</td>\n",
       "      <td>Female</td>\n",
       "      <td>2016-04-29</td>\n",
       "      <td>2016-04-29</td>\n",
       "      <td>8</td>\n",
       "      <td>PONTAL DE CAMBURI</td>\n",
       "      <td>No Scholarship</td>\n",
       "      <td>No Hipertension</td>\n",
       "      <td>No Diabetes</td>\n",
       "      <td>Not Alcoholic</td>\n",
       "      <td>Not Handicaped</td>\n",
       "      <td>Not Received</td>\n",
       "      <td>Show</td>\n",
       "      <td>Children</td>\n",
       "    </tr>\n",
       "    <tr>\n",
       "      <th>4</th>\n",
       "      <td>8841186448183</td>\n",
       "      <td>5642494</td>\n",
       "      <td>Female</td>\n",
       "      <td>2016-04-29</td>\n",
       "      <td>2016-04-29</td>\n",
       "      <td>56</td>\n",
       "      <td>JARDIM DA PENHA</td>\n",
       "      <td>No Scholarship</td>\n",
       "      <td>Has Hipertension</td>\n",
       "      <td>Has Diabetes</td>\n",
       "      <td>Not Alcoholic</td>\n",
       "      <td>Not Handicaped</td>\n",
       "      <td>Not Received</td>\n",
       "      <td>Show</td>\n",
       "      <td>Adults</td>\n",
       "    </tr>\n",
       "  </tbody>\n",
       "</table>\n",
       "</div>"
      ],
      "text/plain": [
       "         PatientId  AppointmentID  Gender ScheduledDay AppointmentDay  Age  \\\n",
       "0   29872499824296        5642903  Female   2016-04-29     2016-04-29   62   \n",
       "1  558997776694438        5642503    Male   2016-04-29     2016-04-29   56   \n",
       "2    4262962299951        5642549  Female   2016-04-29     2016-04-29   62   \n",
       "3     867951213174        5642828  Female   2016-04-29     2016-04-29    8   \n",
       "4    8841186448183        5642494  Female   2016-04-29     2016-04-29   56   \n",
       "\n",
       "       Neighbourhood     Scholarship      Hipertension      Diabetes  \\\n",
       "0    JARDIM DA PENHA  No Scholarship  Has Hipertension   No Diabetes   \n",
       "1    JARDIM DA PENHA  No Scholarship   No Hipertension   No Diabetes   \n",
       "2      MATA DA PRAIA  No Scholarship   No Hipertension   No Diabetes   \n",
       "3  PONTAL DE CAMBURI  No Scholarship   No Hipertension   No Diabetes   \n",
       "4    JARDIM DA PENHA  No Scholarship  Has Hipertension  Has Diabetes   \n",
       "\n",
       "      Alcoholism         Handcap  SMS_received No_show Age_group  \n",
       "0  Not Alcoholic  Not Handicaped  Not Received    Show   Seniors  \n",
       "1  Not Alcoholic  Not Handicaped  Not Received    Show    Adults  \n",
       "2  Not Alcoholic  Not Handicaped  Not Received    Show   Seniors  \n",
       "3  Not Alcoholic  Not Handicaped  Not Received    Show  Children  \n",
       "4  Not Alcoholic  Not Handicaped  Not Received    Show    Adults  "
      ]
     },
     "execution_count": 19,
     "metadata": {},
     "output_type": "execute_result"
    }
   ],
   "source": [
    "# Age range is from 0 to 115 years old\n",
    "# creating a new column for age_group to classify patients according to thier ages like the following:\n",
    "\n",
    "# create a list of age conditions\n",
    "ages = [\n",
    "    (df['Age'] <= 14),\n",
    "    (df['Age'] > 14) & (df['Age'] <= 24),\n",
    "    (df['Age'] > 24) & (df['Age'] <= 59),\n",
    "    (df['Age'] >= 60)\n",
    "    ]\n",
    "\n",
    "# create a list of the values to be assigned for each condition\n",
    "values = ['Children', 'Youth', 'Adults', 'Seniors']\n",
    "\n",
    "# create a new column and use np.select to assign values to it using our lists as arguments\n",
    "df['Age_group'] = np.select(ages, values)\n",
    "\n",
    "# display updated DataFrame\n",
    "df.head()"
   ]
  },
  {
   "cell_type": "code",
   "execution_count": 20,
   "metadata": {},
   "outputs": [
    {
     "data": {
      "text/plain": [
       "2016-06-06    4691\n",
       "2016-05-16    4613\n",
       "2016-05-09    4520\n",
       "2016-05-30    4514\n",
       "2016-06-08    4479\n",
       "2016-05-11    4474\n",
       "2016-06-01    4464\n",
       "2016-06-07    4416\n",
       "2016-05-12    4394\n",
       "2016-05-02    4376\n",
       "2016-05-18    4373\n",
       "2016-05-17    4372\n",
       "2016-06-02    4310\n",
       "2016-05-10    4308\n",
       "2016-05-31    4279\n",
       "2016-05-05    4273\n",
       "2016-05-19    4270\n",
       "2016-05-03    4256\n",
       "2016-05-04    4168\n",
       "2016-06-03    4090\n",
       "2016-05-24    4009\n",
       "2016-05-13    3987\n",
       "2016-05-25    3909\n",
       "2016-05-06    3879\n",
       "2016-05-20    3828\n",
       "2016-04-29    3235\n",
       "2016-05-14      39\n",
       "Name: AppointmentDay, dtype: int64"
      ]
     },
     "execution_count": 20,
     "metadata": {},
     "output_type": "execute_result"
    }
   ],
   "source": [
    "#check appointment dates values & range\n",
    "df['AppointmentDay'].value_counts()\n",
    "\n",
    "#the data was collected from april to june 2016"
   ]
  },
  {
   "cell_type": "code",
   "execution_count": 21,
   "metadata": {},
   "outputs": [
    {
     "data": {
      "text/html": [
       "<div>\n",
       "<style scoped>\n",
       "    .dataframe tbody tr th:only-of-type {\n",
       "        vertical-align: middle;\n",
       "    }\n",
       "\n",
       "    .dataframe tbody tr th {\n",
       "        vertical-align: top;\n",
       "    }\n",
       "\n",
       "    .dataframe thead th {\n",
       "        text-align: right;\n",
       "    }\n",
       "</style>\n",
       "<table border=\"1\" class=\"dataframe\">\n",
       "  <thead>\n",
       "    <tr style=\"text-align: right;\">\n",
       "      <th></th>\n",
       "      <th>PatientId</th>\n",
       "      <th>AppointmentID</th>\n",
       "      <th>Gender</th>\n",
       "      <th>ScheduledDay</th>\n",
       "      <th>AppointmentDay</th>\n",
       "      <th>Age</th>\n",
       "      <th>Neighbourhood</th>\n",
       "      <th>Scholarship</th>\n",
       "      <th>Hipertension</th>\n",
       "      <th>Diabetes</th>\n",
       "      <th>Alcoholism</th>\n",
       "      <th>Handcap</th>\n",
       "      <th>SMS_received</th>\n",
       "      <th>No_show</th>\n",
       "      <th>Age_group</th>\n",
       "      <th>Appointment_month</th>\n",
       "    </tr>\n",
       "  </thead>\n",
       "  <tbody>\n",
       "    <tr>\n",
       "      <th>0</th>\n",
       "      <td>29872499824296</td>\n",
       "      <td>5642903</td>\n",
       "      <td>Female</td>\n",
       "      <td>2016-04-29</td>\n",
       "      <td>2016-04-29</td>\n",
       "      <td>62</td>\n",
       "      <td>JARDIM DA PENHA</td>\n",
       "      <td>No Scholarship</td>\n",
       "      <td>Has Hipertension</td>\n",
       "      <td>No Diabetes</td>\n",
       "      <td>Not Alcoholic</td>\n",
       "      <td>Not Handicaped</td>\n",
       "      <td>Not Received</td>\n",
       "      <td>Show</td>\n",
       "      <td>Seniors</td>\n",
       "      <td>April</td>\n",
       "    </tr>\n",
       "    <tr>\n",
       "      <th>1</th>\n",
       "      <td>558997776694438</td>\n",
       "      <td>5642503</td>\n",
       "      <td>Male</td>\n",
       "      <td>2016-04-29</td>\n",
       "      <td>2016-04-29</td>\n",
       "      <td>56</td>\n",
       "      <td>JARDIM DA PENHA</td>\n",
       "      <td>No Scholarship</td>\n",
       "      <td>No Hipertension</td>\n",
       "      <td>No Diabetes</td>\n",
       "      <td>Not Alcoholic</td>\n",
       "      <td>Not Handicaped</td>\n",
       "      <td>Not Received</td>\n",
       "      <td>Show</td>\n",
       "      <td>Adults</td>\n",
       "      <td>April</td>\n",
       "    </tr>\n",
       "    <tr>\n",
       "      <th>2</th>\n",
       "      <td>4262962299951</td>\n",
       "      <td>5642549</td>\n",
       "      <td>Female</td>\n",
       "      <td>2016-04-29</td>\n",
       "      <td>2016-04-29</td>\n",
       "      <td>62</td>\n",
       "      <td>MATA DA PRAIA</td>\n",
       "      <td>No Scholarship</td>\n",
       "      <td>No Hipertension</td>\n",
       "      <td>No Diabetes</td>\n",
       "      <td>Not Alcoholic</td>\n",
       "      <td>Not Handicaped</td>\n",
       "      <td>Not Received</td>\n",
       "      <td>Show</td>\n",
       "      <td>Seniors</td>\n",
       "      <td>April</td>\n",
       "    </tr>\n",
       "  </tbody>\n",
       "</table>\n",
       "</div>"
      ],
      "text/plain": [
       "         PatientId  AppointmentID  Gender ScheduledDay AppointmentDay  Age  \\\n",
       "0   29872499824296        5642903  Female   2016-04-29     2016-04-29   62   \n",
       "1  558997776694438        5642503    Male   2016-04-29     2016-04-29   56   \n",
       "2    4262962299951        5642549  Female   2016-04-29     2016-04-29   62   \n",
       "\n",
       "     Neighbourhood     Scholarship      Hipertension     Diabetes  \\\n",
       "0  JARDIM DA PENHA  No Scholarship  Has Hipertension  No Diabetes   \n",
       "1  JARDIM DA PENHA  No Scholarship   No Hipertension  No Diabetes   \n",
       "2    MATA DA PRAIA  No Scholarship   No Hipertension  No Diabetes   \n",
       "\n",
       "      Alcoholism         Handcap  SMS_received No_show Age_group  \\\n",
       "0  Not Alcoholic  Not Handicaped  Not Received    Show   Seniors   \n",
       "1  Not Alcoholic  Not Handicaped  Not Received    Show    Adults   \n",
       "2  Not Alcoholic  Not Handicaped  Not Received    Show   Seniors   \n",
       "\n",
       "  Appointment_month  \n",
       "0             April  \n",
       "1             April  \n",
       "2             April  "
      ]
     },
     "execution_count": 21,
     "metadata": {},
     "output_type": "execute_result"
    }
   ],
   "source": [
    "#create new column for month of the Appointment date\n",
    "df['Appointment_month'] = df['AppointmentDay'].dt.month_name()\n",
    "df.head(3)"
   ]
  },
  {
   "cell_type": "markdown",
   "metadata": {},
   "source": [
    "<a id='eda'></a>\n",
    "<h2 style=\"color:#02B3E4\">Exploratory Data Analysis</h2>\n",
    "\n",
    "> Now the data is trimmed, cleaned and ready to be explored. "
   ]
  },
  {
   "cell_type": "markdown",
   "metadata": {},
   "source": [
    "### Research Question 1: When was the highest number of appointments?"
   ]
  },
  {
   "cell_type": "code",
   "execution_count": 22,
   "metadata": {},
   "outputs": [
    {
     "data": {
      "image/png": "[encoded data removed]",
      "text/plain": [
       "<Figure size 432x288 with 1 Axes>"
      ]
     },
     "metadata": {
      "needs_background": "light"
     },
     "output_type": "display_data"
    }
   ],
   "source": [
    "#Q1: when was the highest no. of appointments? \n",
    "\n",
    "group1 = df['AppointmentID'].groupby(df['AppointmentDay'].dt.month).count().plot(kind='bar', color = 'midnightblue')"
   ]
  },
  {
   "cell_type": "code",
   "execution_count": 23,
   "metadata": {},
   "outputs": [
    {
     "data": {
      "text/plain": [
       "AppointmentDay\n",
       "4     3235\n",
       "5    80841\n",
       "6    26450\n",
       "Name: AppointmentID, dtype: int64"
      ]
     },
     "execution_count": 23,
     "metadata": {},
     "output_type": "execute_result"
    }
   ],
   "source": [
    "#graph validation:\n",
    "df['AppointmentID'].groupby(df['AppointmentDay'].dt.month).count()"
   ]
  },
  {
   "cell_type": "markdown",
   "metadata": {},
   "source": [
    "> **Observations:** The above barchart shows that the highest number of appointments was in May, 2016"
   ]
  },
  {
   "cell_type": "markdown",
   "metadata": {},
   "source": [
    "### Research Question 2: What is the total number of show/no-show appointments?"
   ]
  },
  {
   "cell_type": "code",
   "execution_count": 24,
   "metadata": {},
   "outputs": [
    {
     "data": {
      "text/plain": [
       "Text(0.5, 1.0, 'Total appointments by no-show status')"
      ]
     },
     "execution_count": 24,
     "metadata": {},
     "output_type": "execute_result"
    },
    {
     "data": {
      "image/png": "[encoded data removed]",
      "text/plain": [
       "<Figure size 432x288 with 1 Axes>"
      ]
     },
     "metadata": {
      "needs_background": "light"
     },
     "output_type": "display_data"
    }
   ],
   "source": [
    "#Q2: total shows/no-shows?\n",
    "\n",
    "group2 = df['AppointmentID'].groupby(df['No_show']).count().plot(kind='bar', color = ['midnightblue', 'lavender'])\n",
    "plt.xlabel(\"Appointment No-show Status\")\n",
    "plt.ylabel(\"Total Appoinments\")\n",
    "plt.title(\"Total appointments by no-show status\")"
   ]
  },
  {
   "cell_type": "code",
   "execution_count": 25,
   "metadata": {},
   "outputs": [
    {
     "data": {
      "text/plain": [
       "Show       88207\n",
       "No show    22319\n",
       "Name: No_show, dtype: int64"
      ]
     },
     "execution_count": 25,
     "metadata": {},
     "output_type": "execute_result"
    }
   ],
   "source": [
    "#graph validation\n",
    "df['No_show'].value_counts()"
   ]
  },
  {
   "cell_type": "markdown",
   "metadata": {},
   "source": [
    "> **Observations:** The above barchart shows that no-show appointments represents a small amount of the total appointments, \n",
    "comparing it to the show amount"
   ]
  },
  {
   "cell_type": "code",
   "execution_count": 56,
   "metadata": {},
   "outputs": [],
   "source": [
    "#creating a user-defined function to plot stacked barcharts\n",
    "def stacked_bar(values_list, show_values, noshow_values, x, y, title):\n",
    "    plt.bar(values_list, show_values, color='lavender')\n",
    "    plt.bar(values_list, noshow_values, color='midnightblue' )\n",
    "    plt.legend([\"Show\", \"No show\"])\n",
    "    plt.xlabel(x)\n",
    "    plt.ylabel(y)\n",
    "    plt.title(title)\n",
    "    plt.show()"
   ]
  },
  {
   "cell_type": "markdown",
   "metadata": {},
   "source": [
    "### Research Question 3: What is the total number of show/no-show appointments per month? When was the highest no-show rate?"
   ]
  },
  {
   "cell_type": "code",
   "execution_count": 57,
   "metadata": {},
   "outputs": [
    {
     "data": {
      "image/png": "[encoded data removed]",
      "text/plain": [
       "<Figure size 432x288 with 1 Axes>"
      ]
     },
     "metadata": {
      "needs_background": "light"
     },
     "output_type": "display_data"
    }
   ],
   "source": [
    "#Q3: how many shows/no-shows per month? when was the highest no-show rate?\n",
    "\n",
    "#to find the counts of show/no-show in each month as array:\n",
    "apr = df[df['Appointment_month']==\"April\"]\n",
    "m1 = apr['No_show'].value_counts().array\n",
    "\n",
    "may = df[df['Appointment_month']==\"May\"]\n",
    "m2 = may['No_show'].value_counts().array\n",
    "\n",
    "jun = df[df['Appointment_month']==\"June\"]\n",
    "m3 = jun['No_show'].value_counts().array\n",
    "\n",
    "#getting values\n",
    "show = [m1[0], m2[0], m3[0]]\n",
    "noshow = [m1[1], m2[1], m3[1]]\n",
    "\n",
    "# to get the months list (april, may, june)\n",
    "months_list = pd.unique(df['Appointment_month'])\n",
    "\n",
    "#plotting No. of show/no-show by month \n",
    "stacked_bar(months_list, show, noshow, \"Month - 2016\",\"Total Appoinments\", \"Total appointments by month/no-show status\")\n"
   ]
  },
  {
   "cell_type": "code",
   "execution_count": 27,
   "metadata": {},
   "outputs": [
    {
     "name": "stdout",
     "output_type": "stream",
     "text": [
      "Show values= \n",
      "[2602, 64037, 21568]\n",
      "No show values= \n",
      "[633, 16804, 4882]\n"
     ]
    }
   ],
   "source": [
    "#graph validation \n",
    "print('Show values= ')\n",
    "print(show)\n",
    "print('No show values= ')\n",
    "print(noshow)"
   ]
  },
  {
   "cell_type": "markdown",
   "metadata": {},
   "source": [
    "> **Observation:** The above stacked barchart shows that the highest rate of no-show was in may 2016"
   ]
  },
  {
   "cell_type": "markdown",
   "metadata": {},
   "source": [
    "### Research Question 4: What is the total number of show/no-show appointments per gender? Who has the highest no-show rate?"
   ]
  },
  {
   "cell_type": "code",
   "execution_count": 58,
   "metadata": {},
   "outputs": [
    {
     "data": {
      "image/png": "[encoded data removed]",
      "text/plain": [
       "<Figure size 432x288 with 1 Axes>"
      ]
     },
     "metadata": {
      "needs_background": "light"
     },
     "output_type": "display_data"
    }
   ],
   "source": [
    "#Q4: how many shows/no-shows per gender?\n",
    "\n",
    "#to find the counts of show/no-show per gender as array:\n",
    "gender_m = df[df['Gender']==\"Male\"]\n",
    "male = gender_m['No_show'].value_counts().array\n",
    "\n",
    "gender_f = df[df['Gender']==\"Female\"]\n",
    "female = gender_f['No_show'].value_counts().array\n",
    "\n",
    "# getting values\n",
    "show = [male[0], female[0]]\n",
    "noshow = [male[1], female[1]]\n",
    "\n",
    "# to get list of gender (male, female):\n",
    "gender_list = pd.unique(df['Gender'])\n",
    "\n",
    "#plotting No. of show/no-show by gender\n",
    "stacked_bar(gender_list, show, noshow, \"Gender\",\"Total Appoinments\", \"Total appointments by Gender\")\n"
   ]
  },
  {
   "cell_type": "code",
   "execution_count": 29,
   "metadata": {},
   "outputs": [
    {
     "name": "stdout",
     "output_type": "stream",
     "text": [
      "Show values= \n",
      "[30962, 57245]\n",
      "No show values= \n",
      "[7725, 14594]\n"
     ]
    }
   ],
   "source": [
    "#graph validation:\n",
    "print('Show values= ')\n",
    "print(show)\n",
    "print('No show values= ')\n",
    "print(noshow)"
   ]
  },
  {
   "cell_type": "markdown",
   "metadata": {},
   "source": [
    "> **Observation:** The above stacked barchart shows that males have higher number of appointments, as well as higher number of no-shows comparing to females"
   ]
  },
  {
   "cell_type": "markdown",
   "metadata": {},
   "source": [
    "### Research Question 5: What is the total number of show/no-show appointments per age group? Which group has the highest no-show rate?"
   ]
  },
  {
   "cell_type": "code",
   "execution_count": 30,
   "metadata": {},
   "outputs": [
    {
     "data": {
      "image/png": "[encoded data removed]",
      "text/plain": [
       "<Figure size 432x288 with 1 Axes>"
      ]
     },
     "metadata": {
      "needs_background": "light"
     },
     "output_type": "display_data"
    }
   ],
   "source": [
    "# finding the distrubution of ages\n",
    " \n",
    "# Plotting the histogram\n",
    "m, std = norm.fit(df['Age'])\n",
    "plt.hist(df['Age'], bins=25, density=True, alpha=0.6, color='lavender', edgecolor='midnightblue')\n",
    "\n",
    "# Plotting the distrbution line\n",
    "xmin, xmax = plt.xlim()\n",
    "x = np.linspace(xmin, xmax, 100)\n",
    "p = norm.pdf(x, m, std)\n",
    "  \n",
    "plt.plot(x, p, 'r', linewidth=2)\n",
    "\n",
    "plt.title('Ages Distribution') \n",
    "\n",
    "plt.show()"
   ]
  },
  {
   "cell_type": "markdown",
   "metadata": {},
   "source": [
    "> **Observation:** The above hsitogram shows the distribution of patients' ages. The histogram is skewed right. Few patients whose ages are older than 80 were having appointments, while most of the patients were between 10 and 60 years old. Moreover, the number of newborns was the highest comparing to the other ages."
   ]
  },
  {
   "cell_type": "code",
   "execution_count": 60,
   "metadata": {},
   "outputs": [
    {
     "data": {
      "image/png": "[encoded data removed]",
      "text/plain": [
       "<Figure size 432x288 with 1 Axes>"
      ]
     },
     "metadata": {
      "needs_background": "light"
     },
     "output_type": "display_data"
    }
   ],
   "source": [
    "#Q5: how many shows/no-shows per age group?\n",
    "\n",
    "#'Youth', 'Adults', 'Seniors'\n",
    "\n",
    "#to find the counts of show/no-show per age group as an array:\n",
    "age1 = df[df['Age_group']==\"Children\"]\n",
    "children = age1['No_show'].value_counts().array\n",
    "\n",
    "age2 = df[df['Age_group']==\"Youth\"]\n",
    "youth = age2['No_show'].value_counts().array\n",
    "\n",
    "age3 = df[df['Age_group']==\"Adults\"]\n",
    "adults = age3['No_show'].value_counts().array\n",
    "\n",
    "age4 = df[df['Age_group']==\"Seniors\"]\n",
    "seniors = age4['No_show'].value_counts().array\n",
    "\n",
    "#getting values\n",
    "show = [children[0], youth[0], adults[0], seniors[0]]\n",
    "noshow = [children[1], youth[1], adults[1], seniors[1]]\n",
    "\n",
    "# to get list of ages:\n",
    "age_list = pd.unique(df['Age_group'])\n",
    "\n",
    "#plotting No. of show/no-show by age group\n",
    "stacked_bar(age_list, show, noshow, \"Age Group\",\"Total Appoinments\", \"Total appointments by age group\")"
   ]
  },
  {
   "cell_type": "code",
   "execution_count": 32,
   "metadata": {},
   "outputs": [
    {
     "name": "stdout",
     "output_type": "stream",
     "text": [
      "Show values= \n",
      "[18331, 10470, 41475, 17931]\n",
      "No show values= \n",
      "[4926, 3540, 10611, 3242]\n"
     ]
    }
   ],
   "source": [
    "#graph validation:\n",
    "print('Show values= ')\n",
    "print(show)\n",
    "print('No show values= ')\n",
    "print(noshow)"
   ]
  },
  {
   "cell_type": "markdown",
   "metadata": {},
   "source": [
    "> **Observation:** The above stacked barchart shows that that childern have that highest number of appointments, as well as no-show rate. The total appointments of seniors and youth is close, but no-show rate is higher for patients who were seniors. In the other hand, the rates of no-show for youth and adults are almost similar."
   ]
  },
  {
   "cell_type": "markdown",
   "metadata": {},
   "source": [
    "### Research Question 6: What is the total number of show/no-show appointments for those who have a chornic diseases? "
   ]
  },
  {
   "cell_type": "code",
   "execution_count": 61,
   "metadata": {},
   "outputs": [
    {
     "data": {
      "image/png": "[encoded data removed]",
      "text/plain": [
       "<Figure size 432x288 with 1 Axes>"
      ]
     },
     "metadata": {
      "needs_background": "light"
     },
     "output_type": "display_data"
    }
   ],
   "source": [
    "#Q6: how many shows/no-shows for those who have a chornic diseases?\n",
    "\n",
    "#to find the counts of show/no-show per disease as an array:   Hipertension\tDiabetes\n",
    "diseases1 = df[df['Hipertension']==\"Has Hipertension\"]\n",
    "hipe = diseases1['No_show'].value_counts().array\n",
    "\n",
    "diseases2 = df[df['Diabetes']==\"Has Diabetes\"]\n",
    "Diab = diseases2['No_show'].value_counts().array\n",
    "\n",
    "#getting values:\n",
    "show = [hipe[0], Diab[0]]\n",
    "noshow = [hipe[1], Diab[1]]\n",
    "\n",
    "# to get list of diseases:\n",
    "diseases_list = [\"Hipertension\", \"Diabetes\"]\n",
    "\n",
    "#plotting No. of show/no-show by disease\n",
    "stacked_bar(diseases_list, show, noshow, \"Diseases\",\"Total Appoinments\", \"Total No-shows for Patients with Chornic Diseases\")"
   ]
  },
  {
   "cell_type": "code",
   "execution_count": 34,
   "metadata": {},
   "outputs": [
    {
     "name": "stdout",
     "output_type": "stream",
     "text": [
      "Show values= \n",
      "[18029, 6513]\n",
      "No show values= \n",
      "[3772, 1430]\n"
     ]
    }
   ],
   "source": [
    "#graph validation:\n",
    "print('Show values= ')\n",
    "print(show)\n",
    "print('No show values= ')\n",
    "print(noshow)"
   ]
  },
  {
   "cell_type": "markdown",
   "metadata": {},
   "source": [
    "> **Observation:** The above stacked barchart shows that that patients who have Hipertension are more careful in attending thier scheduled appoitments in comparasion with those who have a Diabetes."
   ]
  },
  {
   "cell_type": "markdown",
   "metadata": {},
   "source": [
    "### Research Question 7: Where was the highest  number of appointments? "
   ]
  },
  {
   "cell_type": "code",
   "execution_count": 35,
   "metadata": {},
   "outputs": [
    {
     "data": {
      "text/plain": [
       "81"
      ]
     },
     "execution_count": 35,
     "metadata": {},
     "output_type": "execute_result"
    }
   ],
   "source": [
    "#check count of clinics locations \n",
    "df['Neighbourhood'].nunique()"
   ]
  },
  {
   "cell_type": "code",
   "execution_count": 36,
   "metadata": {},
   "outputs": [
    {
     "name": "stdout",
     "output_type": "stream",
     "text": [
      "['JARDIM DA PENHA' 'MATA DA PRAIA' 'PONTAL DE CAMBURI' 'REPÚBLICA'\n",
      " 'GOIABEIRAS' 'ANDORINHAS' 'CONQUISTA' 'NOVA PALESTINA' 'DA PENHA'\n",
      " 'TABUAZEIRO' 'BENTO FERREIRA' 'SÃO PEDRO' 'SANTA MARTHA' 'SÃO CRISTÓVÃO'\n",
      " 'MARUÍPE' 'GRANDE VITÓRIA' 'SÃO BENEDITO' 'ILHA DAS CAIEIRAS'\n",
      " 'SANTO ANDRÉ' 'SOLON BORGES' 'BONFIM' 'JARDIM CAMBURI' 'MARIA ORTIZ'\n",
      " 'JABOUR' 'ANTÔNIO HONÓRIO' 'RESISTÊNCIA' 'ILHA DE SANTA MARIA'\n",
      " 'JUCUTUQUARA' 'MONTE BELO' 'MÁRIO CYPRESTE' 'SANTO ANTÔNIO' 'BELA VISTA'\n",
      " 'PRAIA DO SUÁ' 'SANTA HELENA' 'ITARARÉ' 'INHANGUETÁ' 'UNIVERSITÁRIO'\n",
      " 'SÃO JOSÉ' 'REDENÇÃO' 'SANTA CLARA' 'CENTRO' 'PARQUE MOSCOSO'\n",
      " 'DO MOSCOSO' 'SANTOS DUMONT' 'CARATOÍRA' 'ARIOVALDO FAVALESSA'\n",
      " 'ILHA DO FRADE' 'GURIGICA' 'JOANA D´ARC' 'CONSOLAÇÃO' 'PRAIA DO CANTO'\n",
      " 'BOA VISTA' 'MORADA DE CAMBURI' 'SANTA LUÍZA' 'SANTA LÚCIA'\n",
      " 'BARRO VERMELHO' 'ESTRELINHA' 'FORTE SÃO JOÃO' 'FONTE GRANDE'\n",
      " 'ENSEADA DO SUÁ' 'SANTOS REIS' 'PIEDADE' 'JESUS DE NAZARETH'\n",
      " 'SANTA TEREZA' 'CRUZAMENTO' 'ILHA DO PRÍNCIPE' 'ROMÃO' 'COMDUSA'\n",
      " 'SANTA CECÍLIA' 'VILA RUBIM' 'DE LOURDES' 'DO QUADRO' 'DO CABRAL' 'HORTO'\n",
      " 'SEGURANÇA DO LAR' 'ILHA DO BOI' 'FRADINHOS' 'NAZARETH' 'AEROPORTO'\n",
      " 'ILHAS OCEÂNICAS DE TRINDADE' 'PARQUE INDUSTRIAL']\n"
     ]
    }
   ],
   "source": [
    "#get list of locations\n",
    "locations_list = pd.unique(df['Neighbourhood'])\n",
    "print(locations_list)"
   ]
  },
  {
   "cell_type": "code",
   "execution_count": 37,
   "metadata": {},
   "outputs": [
    {
     "name": "stdout",
     "output_type": "stream",
     "text": [
      "Neighbourhood\n",
      "JARDIM CAMBURI                 7717\n",
      "MARIA ORTIZ                    5805\n",
      "RESISTÊNCIA                    4431\n",
      "JARDIM DA PENHA                3877\n",
      "ITARARÉ                        3514\n",
      "                               ... \n",
      "ILHA DO BOI                      35\n",
      "ILHA DO FRADE                    10\n",
      "AEROPORTO                         8\n",
      "ILHAS OCEÂNICAS DE TRINDADE       2\n",
      "PARQUE INDUSTRIAL                 1\n",
      "Name: AppointmentID, Length: 81, dtype: int64\n"
     ]
    }
   ],
   "source": [
    "#get the count of appointments per location\n",
    "group3 = df['AppointmentID'].groupby(df['Neighbourhood']).count().sort_values(ascending=False)\n",
    "print(group3)"
   ]
  },
  {
   "cell_type": "code",
   "execution_count": 38,
   "metadata": {},
   "outputs": [
    {
     "data": {
      "image/png": "[encoded data removed]",
      "text/plain": [
       "<Figure size 1008x432 with 1 Axes>"
      ]
     },
     "metadata": {
      "needs_background": "light"
     },
     "output_type": "display_data"
    }
   ],
   "source": [
    "#plot a treemap to represent the locations from highest to lowest number of appointments\n",
    "fig, ax = plt.subplots(1, figsize = (14,6))\n",
    "\n",
    "#to specify the color scales, the darkest the blue, the highest number of appointments\n",
    "cmap = plt.cm.Blues\n",
    "minimum=min(group3)\n",
    "maximum=max(group3)\n",
    "normal = clr.Normalize(vmin=minimum, vmax=maximum)\n",
    "map_colors = [cmap(normal(value)) for value in group3] \n",
    "\n",
    "squarify.plot(sizes=group3, label=locations_list [:35],color=map_colors, alpha=.8 )\n",
    "plt.axis('off')\n",
    "plt.title(\"Locations with Highest Number of Appointments\")\n",
    "plt.show()"
   ]
  },
  {
   "cell_type": "markdown",
   "metadata": {},
   "source": [
    "> **Observations:** The treemap above shows the total appointments per location. The darkest the blue, the highest number of appointments per clinic. Jardima Da Penha was the highest one, followed by Mata Da Praia."
   ]
  },
  {
   "cell_type": "markdown",
   "metadata": {},
   "source": [
    "### Research Question 8: Were patients who have scolarship commited to their appointments more?"
   ]
  },
  {
   "cell_type": "code",
   "execution_count": 62,
   "metadata": {},
   "outputs": [
    {
     "data": {
      "image/png": "[encoded data removed]",
      "text/plain": [
       "<Figure size 432x288 with 1 Axes>"
      ]
     },
     "metadata": {
      "needs_background": "light"
     },
     "output_type": "display_data"
    }
   ],
   "source": [
    "#to find the counts of show/no-show per Scolarship as array:\n",
    "scolar1 = df[df['Scholarship']==\"Has Scholarship\"]\n",
    "scolarship = scolar1['No_show'].value_counts().array\n",
    "\n",
    "scolar2 = df[df['Scholarship']==\"No Scholarship\"]\n",
    "no_scolarship = scolar2['No_show'].value_counts().array\n",
    "\n",
    "#getting values:\n",
    "show = [scolarship[0], no_scolarship[0]]\n",
    "noshow = [scolarship[1], no_scolarship[1]]\n",
    "\n",
    "# to get list of Scolarship:\n",
    "scolar_list = pd.unique(df['Scholarship'])\n",
    "\n",
    "#plotting No. of show/no-show by Scolarship\n",
    "stacked_bar(diseases_list, show, noshow, \"Scolarship Status\",\"Total Appoinments\", \"Total Appointments by Scolarship Status\")"
   ]
  },
  {
   "cell_type": "code",
   "execution_count": 40,
   "metadata": {},
   "outputs": [
    {
     "name": "stdout",
     "output_type": "stream",
     "text": [
      "Show values= \n",
      "[8283, 79924]\n",
      "No show values= \n",
      "[2578, 19741]\n"
     ]
    }
   ],
   "source": [
    "#graph validation:\n",
    "print('Show values= ')\n",
    "print(show)\n",
    "print('No show values= ')\n",
    "print(noshow)"
   ]
  },
  {
   "cell_type": "markdown",
   "metadata": {},
   "source": [
    ">**Observations:** The above stacked barchart shows the Total Appointments by Scolarship Status. Those who have scolarship represent the majority of the patients. In addition, having scolarship does not affect the commitment of the patients, as we can notice approximitly 25% of those who have scolarship are missing their appointments, which is very close to the percentage of those who do not have scolarship."
   ]
  },
  {
   "cell_type": "markdown",
   "metadata": {},
   "source": [
    "### Research Question 9: Does Alcoholism affects patients commitment to their appointments?"
   ]
  },
  {
   "cell_type": "code",
   "execution_count": 41,
   "metadata": {},
   "outputs": [
    {
     "data": {
      "image/png": "[encoded data removed]",
      "text/plain": [
       "<Figure size 432x288 with 2 Axes>"
      ]
     },
     "metadata": {},
     "output_type": "display_data"
    }
   ],
   "source": [
    "#to find the counts of show/no-show per alcoholism as array:\n",
    "alc = df[df['Alcoholism']==\"Alcoholic\"]\n",
    "alcoholic = alc['No_show'].value_counts().array\n",
    "\n",
    "not_alc = df[df['Alcoholism']==\"Not Alcoholic\"]\n",
    "not_alcoholic = not_alc['No_show'].value_counts().array\n",
    "\n",
    "# to get list of noshow:\n",
    "labels_list = pd.unique(df['No_show'])\n",
    "fig = plt.figure()\n",
    "\n",
    "#plotting No. of show/no-show by alcoholic\n",
    "pie1 = fig.add_axes([0, 0, .5, .5])\n",
    "pie1.pie(alcoholic, labels = labels_list,autopct='%.2f%%', explode=(0, 0.1), colors=['lavender','midnightblue'], radius = 1.2)\n",
    "pie1.set_title('Alcoholic Commitment')\n",
    "\n",
    "#plotting No. of show/no-show by non-alcoholic\n",
    "pie2 = fig.add_axes([.5, .0, .5, .5])\n",
    "pie2.pie(not_alcoholic, labels = labels_list, autopct='%.2f%%', explode=(0, 0.1),colors=['lavender','midnightblue'], radius = 1.2)\n",
    "pie2.set_title('Non-Alcoholic Commitment')\n",
    "plt.show()"
   ]
  },
  {
   "cell_type": "code",
   "execution_count": 42,
   "metadata": {},
   "outputs": [
    {
     "name": "stdout",
     "output_type": "stream",
     "text": [
      "alcoholic values= \n",
      "<PandasArray>\n",
      "[2683, 677]\n",
      "Length: 2, dtype: int64\n",
      "not_alcoholic values= \n",
      "<PandasArray>\n",
      "[85524, 21642]\n",
      "Length: 2, dtype: int64\n"
     ]
    }
   ],
   "source": [
    "#graph validation:\n",
    "print('alcoholic values= ')\n",
    "print(alcoholic)\n",
    "print('not_alcoholic values= ')\n",
    "print(not_alcoholic)"
   ]
  },
  {
   "cell_type": "markdown",
   "metadata": {},
   "source": [
    ">**Observations:** The two pie charts above compares the percentage of show/no-show between alcoholic and non-alcoholic patients. The percentage of no-shows for alcoholic is the same as those who are non-alcoholic, so alcoholism might not be a factor of patients' commitment to their appointments. However, looking at the validation section, the number of non-alcoholic represents the majority between patients."
   ]
  },
  {
   "cell_type": "markdown",
   "metadata": {},
   "source": [
    "### Research Question 10: Does receiving an SMS as a reminder improves patients commitment to their appointments?"
   ]
  },
  {
   "cell_type": "code",
   "execution_count": 43,
   "metadata": {},
   "outputs": [
    {
     "data": {
      "image/png": "[encoded data removed]",
      "text/plain": [
       "<Figure size 432x288 with 2 Axes>"
      ]
     },
     "metadata": {},
     "output_type": "display_data"
    }
   ],
   "source": [
    "#to find the counts of show/no-show per sms as array:\n",
    "sms = df[df['SMS_received']==\"Received\"]\n",
    "received = sms['No_show'].value_counts().array\n",
    "\n",
    "no_sms = df[df['SMS_received']==\"Not Received\"]\n",
    "not_received = no_sms['No_show'].value_counts().array\n",
    "\n",
    "# to get list of noshow:\n",
    "labels_list = pd.unique(df['No_show'])\n",
    "fig = plt.figure()\n",
    "\n",
    "#plotting No. of show/no-show by alcoholic\n",
    "pie1 = fig.add_axes([0, 0, .5, .5])\n",
    "pie1.pie(received, labels = labels_list,autopct='%.2f%%', explode=(0, 0.1), colors=['lavender','midnightblue'], radius = 1.2)\n",
    "pie1.set_title('SMS Received')\n",
    "\n",
    "#plotting No. of show/no-show by non-alcoholic\n",
    "pie2 = fig.add_axes([.5, .0, .5, .5])\n",
    "pie2.pie(not_received, labels = labels_list, autopct='%.2f%%', explode=(0, 0.1),colors=['lavender','midnightblue'], radius = 1.2)\n",
    "pie2.set_title('SMS Not Received')\n",
    "plt.show()"
   ]
  },
  {
   "cell_type": "code",
   "execution_count": 44,
   "metadata": {},
   "outputs": [
    {
     "name": "stdout",
     "output_type": "stream",
     "text": [
      "received values= \n",
      "<PandasArray>\n",
      "[25698, 9784]\n",
      "Length: 2, dtype: int64\n",
      "not_received values= \n",
      "<PandasArray>\n",
      "[62509, 12535]\n",
      "Length: 2, dtype: int64\n"
     ]
    }
   ],
   "source": [
    "#graph validation:\n",
    "print('received values= ')\n",
    "print(received)\n",
    "print('not_received values= ')\n",
    "print(not_received)"
   ]
  },
  {
   "cell_type": "markdown",
   "metadata": {},
   "source": [
    ">**Observations:** The two pie charts above compares the percentage of show/no-show for patients who received SMS in comparasion with those who did not. The percentage of no-shows for patients who received SMS is higher than those who did not. In addition, looking at the validation section, the number of patients who did not receive an SMS is higher."
   ]
  },
  {
   "cell_type": "markdown",
   "metadata": {},
   "source": [
    "<a id='conclusions'></a>\n",
    "<h2 style=\"color:#02B3E4\">Conclusions</h2>\n",
    "\n",
    "> **Analysis Summary**: To summarize findings and the results that have been performed, this dataset was focused on the question of whether patients have shown up for their appointment or not. Based on the analysis and observations in the previous sections,  this following conclusion has been derived: "
   ]
  },
  {
   "cell_type": "markdown",
   "metadata": {},
   "source": [
    ">  <ul>\n",
    "           <li>The highest number of appointments as well as no-whos was in May 2016, when 2016 Olympics where taking place in                  Brazil. At that time, WHO published its public health advices regarding the spread of Zika virus and how to                      prevent its spread worldwide, where Brazil was one of the adversly affected countries</li>\n",
    "           <li>The majority of patients were attending their appointments</li>\n",
    "           <li>Females are more careful about their health in comparasion with males, they are commited to attend their                        appointments as scheduled</li>\n",
    "           <li>The majority of patients were from 10 to 60 years old, however, children and seniors had the highest no-show                    rates amoung all age groups</li>\n",
    "           <li>Patients who have a Hipertension tend to schedule appointments more than those who have a Diabetes</li>\n",
    "           <li>Clinics in Jardima Da Penha were the highest in receiving patients, followed by clinics in Mata Da Praia</li>\n",
    "           <li>The majority of patients' appointments was on scolarship, but almost 25% of them were missed by patients</li>\n",
    "           <li>The percentage of no-show for alcoholic and non-alcoholic patients were almost close</li>\n",
    "           <li>The number of patients who received an SMS as a reminder of their appointments was a minor comparing to those who                did not, and that might be because of technical/financial issues</li>\n",
    "      </ul>"
   ]
  },
  {
   "cell_type": "markdown",
   "metadata": {},
   "source": [
    ">**Analysis Limitations:** During the analysis, some limitations were found, for example data cleansing and preparation, finding the relations between categorical variables, or installing needed packages."
   ]
  }
 ],
 "metadata": {
  "kernelspec": {
   "display_name": "Python 3",
   "language": "python",
   "name": "python3"
  },
  "language_info": {
   "codemirror_mode": {
    "name": "ipython",
    "version": 3
   },
   "file_extension": ".py",
   "mimetype": "text/x-python",
   "name": "python",
   "nbconvert_exporter": "python",
   "pygments_lexer": "ipython3",
   "version": "3.8.8"
  }
 },
 "nbformat": 4,
 "nbformat_minor": 2
}
